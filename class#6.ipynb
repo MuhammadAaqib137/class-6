{
 "cells": [
  {
   "cell_type": "markdown",
   "metadata": {},
   "source": [
    "# a list of dictionary"
   ]
  },
  {
   "cell_type": "code",
   "execution_count": 2,
   "metadata": {},
   "outputs": [
    {
     "name": "stdout",
     "output_type": "stream",
     "text": [
      "124\n",
      "456\n",
      "789\n",
      "5678\n"
     ]
    }
   ],
   "source": [
    "#how to access element of a list of dictionary \n",
    "alisofdic= [{\"item\":[1,2,3,4],\"price\":[11,12,13,14]},{\"students\":['A','B','C','D'],\"rollnum\":[124,456,789,5678]}]\n",
    "for mem in range (len(alisofdic)):\n",
    "    if \"rollnum\" in alisofdic[mem]:\n",
    "        for rn in alisofdic[mem][\"rollnum\"]:\n",
    "            print(rn)\n",
    "\n",
    "                                                                                               "
   ]
  },
  {
   "cell_type": "code",
   "execution_count": 3,
   "metadata": {},
   "outputs": [
    {
     "name": "stdout",
     "output_type": "stream",
     "text": [
      "{'color': 'green', 'points': 5}\n",
      "{'color': 'yellow', 'points': 10}\n",
      "{'color': 'red', 'points': 15}\n"
     ]
    }
   ],
   "source": [
    "#book example\n",
    "alien_0={'color': \"green\",\"points\":5}\n",
    "alien_1={'color': \"yellow\", 'points':10}\n",
    "alien_2={'color': \"red\", 'points':15}\n",
    "aliens= [alien_0,alien_1, alien_2]\n",
    "for alien in aliens:\n",
    "    print(alien)"
   ]
  },
  {
   "cell_type": "code",
   "execution_count": 30,
   "metadata": {},
   "outputs": [
    {
     "name": "stdout",
     "output_type": "stream",
     "text": [
      "{'color': 'green', 'point': 5, 'speed': 'slow'}\n",
      "{'color': 'green', 'point': 5, 'speed': 'slow'}\n",
      "{'color': 'green', 'point': 5, 'speed': 'slow'}\n",
      "{'color': 'green', 'point': 5, 'speed': 'slow'}\n",
      "{'color': 'green', 'point': 5, 'speed': 'slow'}\n",
      "...\n"
     ]
    }
   ],
   "source": [
    "aliens =[]\n",
    "for alien_num in range(30):\n",
    "    new_alien={'color':'green','point':5,'speed':'slow'}\n",
    "    aliens.append(new_alien)\n",
    "#print(aliens)\n",
    "for alien in aliens[:5]:\n",
    "    print(alien)\n",
    "print(\"...\")"
   ]
  },
  {
   "cell_type": "code",
   "execution_count": 31,
   "metadata": {},
   "outputs": [
    {
     "name": "stdout",
     "output_type": "stream",
     "text": [
      "total number of aliens :30\n"
     ]
    }
   ],
   "source": [
    "#show how many aliens have been created/\n",
    "print(\"total number of aliens :\"+str(len(aliens)))"
   ]
  },
  {
   "cell_type": "code",
   "execution_count": 34,
   "metadata": {},
   "outputs": [],
   "source": [
    "for a in aliens[0:5]:\n",
    "    if a['color']=='green':\n",
    "        a['color']='brown'\n",
    "        a['speed']='medium'\n",
    "        a['point']=10\n",
    "    elif a['color']=='brown':\n",
    "        a['color']='red'\n",
    "        a['speed']=\"slow\"\n",
    "        a['point']\n",
    "   \n",
    "\n"
   ]
  },
  {
   "cell_type": "code",
   "execution_count": 35,
   "metadata": {},
   "outputs": [
    {
     "name": "stdout",
     "output_type": "stream",
     "text": [
      "{'color': 'red', 'point': 10, 'speed': 'medium'}\n",
      "{'color': 'red', 'point': 10, 'speed': 'medium'}\n",
      "{'color': 'red', 'point': 10, 'speed': 'medium'}\n",
      "{'color': 'red', 'point': 10, 'speed': 'medium'}\n",
      "{'color': 'red', 'point': 10, 'speed': 'medium'}\n"
     ]
    }
   ],
   "source": [
    "for a in aliens[0:5]:\n",
    "    print(a)"
   ]
  },
  {
   "cell_type": "markdown",
   "metadata": {},
   "source": [
    "\n",
    "# A list of Dictionary"
   ]
  },
  {
   "cell_type": "code",
   "execution_count": 46,
   "metadata": {},
   "outputs": [
    {
     "name": "stdout",
     "output_type": "stream",
     "text": [
      "You ordered a thick-crust pizza with the following toppings:\n",
      "\tmushroom\n",
      "\textra cheese\n"
     ]
    }
   ],
   "source": [
    "#store information about a pizza being ordered \n",
    "#pg : 111\n",
    "pizza = {\n",
    "    'crust':\"thick\",\n",
    "    'toppings':['mushroom','extra cheese']}\n",
    "# Summarize the order. v\n",
    "print(\"You ordered a \" + pizza['crust'] + \"-crust pizza with the following toppings:\")\n",
    "for topping in pizza['toppings']:    \n",
    "    print(\"\\t\" + topping)"
   ]
  },
  {
   "cell_type": "code",
   "execution_count": 51,
   "metadata": {},
   "outputs": [
    {
     "name": "stdout",
     "output_type": "stream",
     "text": [
      "\n",
      "Jen's favorite languages are:\n",
      "\tPython\n",
      "\tRuby\n",
      "\n",
      "Sarah's favorite languages are:\n",
      "\tC\n",
      "\n",
      "Edward's favorite languages are:\n",
      "\tRuby\n",
      "\tGo\n",
      "\n",
      "Phil's favorite languages are:\n",
      "\tPython\n",
      "\tHaskell\n"
     ]
    }
   ],
   "source": [
    "favorite_languages = {    'jen': ['python', 'ruby'],    'sarah': ['c'],    'edward': ['ruby', 'go'],    'phil': ['python', 'haskell'],    }\n",
    "for name, languages in favorite_languages.items():    \n",
    "    print(\"\\n\" + name.title() + \"'s favorite languages are:\") \n",
    "    for language in languages: \n",
    "        print(\"\\t\" + language.title())\n"
   ]
  },
  {
   "cell_type": "markdown",
   "metadata": {},
   "source": [
    "# A dictionary in Dictionary"
   ]
  },
  {
   "cell_type": "code",
   "execution_count": 52,
   "metadata": {},
   "outputs": [
    {
     "name": "stdout",
     "output_type": "stream",
     "text": [
      "\n",
      "Username: aeinstein\n",
      "\tFull name: Albert Einstein\n",
      "\tLocation: Princeton\n",
      "\n",
      "Username: mcurie\n",
      "\tFull name: Marie Curie\n",
      "\tLocation: Paris\n"
     ]
    }
   ],
   "source": [
    "users = {    'aeinstein': {   'first': 'albert',\n",
    "                           'last': 'einstein',        \n",
    "                           'location': 'princeton', },\n",
    "              'mcurie': {        'first': 'marie', \n",
    "                             'last': 'curie',\n",
    "                             'location': 'paris',        },\n",
    "         \n",
    "    }\n",
    "for username, user_info in users.items(): \n",
    "    print(\"\\nUsername: \" + username) \n",
    "    full_name = user_info['first'] + \" \" + user_info['last']   \n",
    "    location = user_info['location']\n",
    "    print(\"\\tFull name: \" + full_name.title())\n",
    "    print(\"\\tLocation: \" + location.title())\n"
   ]
  },
  {
   "cell_type": "code",
   "execution_count": 57,
   "metadata": {},
   "outputs": [],
   "source": [
    "#class excercise\n",
    "dicofdic = {'saylani':\n",
    "               {'smit':[\"web\",'ds','ccna','ai'],\n",
    "               'health':['opd','ot']\n",
    "               },\n",
    "           'university':\n",
    "               {'CS':['1st','2nd','3rd','4th'],\n",
    "                'admin':['fees','timetable','exams']\n",
    "               }\n",
    "           }"
   ]
  },
  {
   "cell_type": "code",
   "execution_count": 54,
   "metadata": {},
   "outputs": [
    {
     "data": {
      "text/plain": [
       "True"
      ]
     },
     "execution_count": 54,
     "metadata": {},
     "output_type": "execute_result"
    }
   ],
   "source": [
    "'smit' in dicofdic ['saylani']"
   ]
  },
  {
   "cell_type": "code",
   "execution_count": 59,
   "metadata": {},
   "outputs": [
    {
     "name": "stdout",
     "output_type": "stream",
     "text": [
      "True\n"
     ]
    }
   ],
   "source": [
    "for pk , pv in dicofdic.items():\n",
    "    if pk==\"university\":\n",
    "        for uk, uv in pv.items():\n",
    "            if uk=='admin':\n",
    "                print('exams' in uv)"
   ]
  },
  {
   "cell_type": "code",
   "execution_count": 63,
   "metadata": {},
   "outputs": [
    {
     "name": "stdout",
     "output_type": "stream",
     "text": [
      "True\n"
     ]
    }
   ],
   "source": [
    "for v in dicofdic['university']['admin']:\n",
    "    if v== 'exams':\n",
    "        print(v in dicofdic['university']['admin'])"
   ]
  },
  {
   "cell_type": "code",
   "execution_count": 67,
   "metadata": {},
   "outputs": [
    {
     "name": "stdout",
     "output_type": "stream",
     "text": [
      "True\n"
     ]
    }
   ],
   "source": [
    "print(v in dicofdic['university']['admin'])\n"
   ]
  },
  {
   "cell_type": "code",
   "execution_count": 68,
   "metadata": {},
   "outputs": [
    {
     "data": {
      "text/plain": [
       "'exams'"
      ]
     },
     "execution_count": 68,
     "metadata": {},
     "output_type": "execute_result"
    }
   ],
   "source": [
    "v"
   ]
  },
  {
   "cell_type": "code",
   "execution_count": null,
   "metadata": {},
   "outputs": [],
   "source": [
    "fav_languages=[]\n",
    "for lang in range(4):\n",
    "     "
   ]
  },
  {
   "cell_type": "code",
   "execution_count": null,
   "metadata": {},
   "outputs": [],
   "source": [
    "flag=True\n",
    "fav_languages=[]\n",
    "while (flag):\n",
    "    fav_lang=input(\" Enter fav lang or quit\")\n",
    "        if "
   ]
  }
 ],
 "metadata": {
  "kernelspec": {
   "display_name": "Python 3",
   "language": "python",
   "name": "python3"
  },
  "language_info": {
   "codemirror_mode": {
    "name": "ipython",
    "version": 3
   },
   "file_extension": ".py",
   "mimetype": "text/x-python",
   "name": "python",
   "nbconvert_exporter": "python",
   "pygments_lexer": "ipython3",
   "version": "3.8.5"
  }
 },
 "nbformat": 4,
 "nbformat_minor": 4
}
