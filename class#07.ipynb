{
 "cells": [
  {
   "cell_type": "markdown",
   "metadata": {},
   "source": [
    "# function/ methods/ Routnes"
   ]
  },
  {
   "cell_type": "code",
   "execution_count": 1,
   "metadata": {},
   "outputs": [
    {
     "name": "stdout",
     "output_type": "stream",
     "text": [
      "hello\n"
     ]
    }
   ],
   "source": [
    "def func_name():\n",
    "    print(\"hello\")\n",
    "func_name()"
   ]
  },
  {
   "cell_type": "code",
   "execution_count": 12,
   "metadata": {},
   "outputs": [
    {
     "name": "stdout",
     "output_type": "stream",
     "text": [
      "Enter first value : 1\n",
      "Enter second value : 3\n"
     ]
    },
    {
     "data": {
      "text/plain": [
       "4"
      ]
     },
     "execution_count": 12,
     "metadata": {},
     "output_type": "execute_result"
    }
   ],
   "source": [
    "def add(a,b):\n",
    "    return a+b\n",
    "a = int(input(\"Enter first value : \"))\n",
    "b = int(input(\"Enter second value : \"))\n",
    "add(a,b)"
   ]
  },
  {
   "cell_type": "code",
   "execution_count": 16,
   "metadata": {},
   "outputs": [
    {
     "name": "stdout",
     "output_type": "stream",
     "text": [
      "2\n",
      "3\n",
      "5\n"
     ]
    }
   ],
   "source": [
    "def sum_num():\n",
    "    num1 = int(input())\n",
    "    num2 = int(input())\n",
    "    r = num1 + num2\n",
    "    print(r)\n",
    "sum_num()"
   ]
  },
  {
   "cell_type": "code",
   "execution_count": 19,
   "metadata": {},
   "outputs": [
    {
     "name": "stdout",
     "output_type": "stream",
     "text": [
      "2\n",
      "1\n",
      "3\n",
      "4\n",
      "22\n",
      "1\n",
      "3\n",
      "4\n"
     ]
    },
    {
     "ename": "IndexError",
     "evalue": "list index out of range",
     "output_type": "error",
     "traceback": [
      "\u001b[1;31m---------------------------------------------------------------------------\u001b[0m",
      "\u001b[1;31mIndexError\u001b[0m                                Traceback (most recent call last)",
      "\u001b[1;32m<ipython-input-19-2e6df8b9a185>\u001b[0m in \u001b[0;36m<module>\u001b[1;34m\u001b[0m\n\u001b[0;32m      8\u001b[0m             \u001b[0mmax\u001b[0m\u001b[1;33m=\u001b[0m\u001b[0ml\u001b[0m\u001b[1;33m[\u001b[0m\u001b[0mj\u001b[0m\u001b[1;33m]\u001b[0m\u001b[1;33m\u001b[0m\u001b[1;33m\u001b[0m\u001b[0m\n\u001b[0;32m      9\u001b[0m             \u001b[0mprint\u001b[0m\u001b[1;33m(\u001b[0m\u001b[0mmax\u001b[0m\u001b[1;33m)\u001b[0m\u001b[1;33m\u001b[0m\u001b[1;33m\u001b[0m\u001b[0m\n\u001b[1;32m---> 10\u001b[1;33m \u001b[0mmax\u001b[0m\u001b[1;33m(\u001b[0m\u001b[1;33m)\u001b[0m\u001b[1;33m\u001b[0m\u001b[1;33m\u001b[0m\u001b[0m\n\u001b[0m",
      "\u001b[1;32m<ipython-input-19-2e6df8b9a185>\u001b[0m in \u001b[0;36mmax\u001b[1;34m()\u001b[0m\n\u001b[0;32m      5\u001b[0m         \u001b[0ml\u001b[0m\u001b[1;33m.\u001b[0m\u001b[0mappend\u001b[0m\u001b[1;33m(\u001b[0m\u001b[0ma\u001b[0m\u001b[1;33m)\u001b[0m\u001b[1;33m\u001b[0m\u001b[1;33m\u001b[0m\u001b[0m\n\u001b[0;32m      6\u001b[0m     \u001b[1;32mfor\u001b[0m \u001b[0mj\u001b[0m \u001b[1;32min\u001b[0m \u001b[0mrange\u001b[0m\u001b[1;33m(\u001b[0m\u001b[1;36m5\u001b[0m\u001b[1;33m)\u001b[0m\u001b[1;33m:\u001b[0m\u001b[1;33m\u001b[0m\u001b[1;33m\u001b[0m\u001b[0m\n\u001b[1;32m----> 7\u001b[1;33m         \u001b[1;32mif\u001b[0m \u001b[0ml\u001b[0m\u001b[1;33m[\u001b[0m\u001b[0mj\u001b[0m\u001b[1;33m+\u001b[0m\u001b[1;36m1\u001b[0m\u001b[1;33m]\u001b[0m\u001b[1;33m>\u001b[0m\u001b[0ml\u001b[0m\u001b[1;33m[\u001b[0m\u001b[0mj\u001b[0m\u001b[1;33m]\u001b[0m\u001b[1;33m:\u001b[0m\u001b[1;33m\u001b[0m\u001b[1;33m\u001b[0m\u001b[0m\n\u001b[0m\u001b[0;32m      8\u001b[0m             \u001b[0mmax\u001b[0m\u001b[1;33m=\u001b[0m\u001b[0ml\u001b[0m\u001b[1;33m[\u001b[0m\u001b[0mj\u001b[0m\u001b[1;33m]\u001b[0m\u001b[1;33m\u001b[0m\u001b[1;33m\u001b[0m\u001b[0m\n\u001b[0;32m      9\u001b[0m             \u001b[0mprint\u001b[0m\u001b[1;33m(\u001b[0m\u001b[0mmax\u001b[0m\u001b[1;33m)\u001b[0m\u001b[1;33m\u001b[0m\u001b[1;33m\u001b[0m\u001b[0m\n",
      "\u001b[1;31mIndexError\u001b[0m: list index out of range"
     ]
    }
   ],
   "source": [
    "def max ():\n",
    "    l = []\n",
    "    for i in range(5):\n",
    "        a = int(input())\n",
    "        l.append(a)\n",
    "    for j in range(5):    \n",
    "        if l[j]>l[j+1]:\n",
    "            max=l[j]\n",
    "            print(max)\n",
    "max()"
   ]
  },
  {
   "cell_type": "code",
   "execution_count": 5,
   "metadata": {},
   "outputs": [
    {
     "name": "stdout",
     "output_type": "stream",
     "text": [
      "Enter 5 no 2,3,4,52,22\n"
     ]
    },
    {
     "data": {
      "text/plain": [
       "52"
      ]
     },
     "execution_count": 5,
     "metadata": {},
     "output_type": "execute_result"
    }
   ],
   "source": [
    "#finding maximum value\n",
    "def findmaxo():\n",
    "    ans = input(\"Enter 5 no \").split(',')\n",
    "    return max([int(x) for x in ans])\n",
    "findmaxo()"
   ]
  },
  {
   "cell_type": "code",
   "execution_count": 9,
   "metadata": {},
   "outputs": [
    {
     "name": "stdout",
     "output_type": "stream",
     "text": [
      "enter a num : 77\n",
      "77 is odd\n"
     ]
    }
   ],
   "source": [
    "def ev_od():\n",
    "    a = int(input('enter a num : '))\n",
    "    if a%2==0:\n",
    "        print(f\"{a} is even\")\n",
    "    else:\n",
    "        print(f\"{a} is odd\")\n",
    "ev_od()"
   ]
  },
  {
   "cell_type": "code",
   "execution_count": 12,
   "metadata": {},
   "outputs": [
    {
     "name": "stdout",
     "output_type": "stream",
     "text": [
      "enter your num : 33\n",
      " your value is equal to my value\n"
     ]
    }
   ],
   "source": [
    "my_value = 33\n",
    "def check():\n",
    "    a = int(input(\"enter your num : \"))\n",
    "    if a==my_value:\n",
    "        print(\" your value is equal to my value\")\n",
    "    elif a>my_value:\n",
    "        print(\"your value is greater than my value\")\n",
    "    else:\n",
    "        print(\"your value is less than my value\")\n",
    "check()"
   ]
  },
  {
   "cell_type": "code",
   "execution_count": 2,
   "metadata": {},
   "outputs": [
    {
     "name": "stdout",
     "output_type": "stream",
     "text": [
      "Do you pay your exam fee? : no\n",
      "Do you have your admit card? : noi\n",
      "you are not allowed for exam\n"
     ]
    }
   ],
   "source": [
    "def exam_validation():\n",
    "    exam_fee = input(\"Do you pay your exam fee? : \")\n",
    "    exam_fee.lower()\n",
    "    admit_card = input(\"Do you have your admit card? : \")\n",
    "    admit_card.lower()\n",
    "    if exam_fee == 'yes'and admit_card == 'yes':\n",
    "        print(\"You are allowed for exam \")\n",
    "    else:\n",
    "        print(\"you are not allowed for exam\")\n",
    "exam_validation()\n",
    "        "
   ]
  },
  {
   "cell_type": "code",
   "execution_count": 2,
   "metadata": {},
   "outputs": [
    {
     "name": "stdout",
     "output_type": "stream",
     "text": [
      "Do you pay your exam fee? : yes\n",
      "Do you have your admit card? : ni\n",
      "you are not allowed for exam\n"
     ]
    }
   ],
   "source": [
    "#nested if and multiple if \n",
    "def exam_validation():\n",
    "    exam_fee = input(\"Do you pay your exam fee? : \")\n",
    "    exam_fee.lower()\n",
    "    if exam_fee == 'yes':\n",
    "        admit_card = input(\"Do you have your admit card? : \")\n",
    "        admit_card.lower()\n",
    "        if admit_card == 'yes':\n",
    "            print(\"You are allowed for exam \")\n",
    "        else:\n",
    "            print(\"you are not allowed for exam\")\n",
    "    else:\n",
    "        print(\"you are not allowed for exam\")\n",
    "exam_validation()\n"
   ]
  },
  {
   "cell_type": "code",
   "execution_count": 1,
   "metadata": {},
   "outputs": [
    {
     "name": "stdout",
     "output_type": "stream",
     "text": [
      "enter a num  or q to exit: q\n"
     ]
    }
   ],
   "source": [
    "def ev_od():\n",
    "    Flag = True  \n",
    "    while Flag:  \n",
    "        num = input('enter a num  or q to exit: ')\n",
    "        if num == 'q':\n",
    "            Flag = False\n",
    "        else:     \n",
    "            if num%2==0:\n",
    "                print(f\"{num} is even\")\n",
    "            else:\n",
    "                print(f\"{num} is odd\")\n",
    "    \n",
    "ev_od()"
   ]
  },
  {
   "cell_type": "code",
   "execution_count": null,
   "metadata": {},
   "outputs": [],
   "source": []
  },
  {
   "cell_type": "code",
   "execution_count": null,
   "metadata": {},
   "outputs": [],
   "source": []
  },
  {
   "cell_type": "code",
   "execution_count": null,
   "metadata": {},
   "outputs": [],
   "source": []
  }
 ],
 "metadata": {
  "kernelspec": {
   "display_name": "Python 3",
   "language": "python",
   "name": "python3"
  },
  "language_info": {
   "codemirror_mode": {
    "name": "ipython",
    "version": 3
   },
   "file_extension": ".py",
   "mimetype": "text/x-python",
   "name": "python",
   "nbconvert_exporter": "python",
   "pygments_lexer": "ipython3",
   "version": "3.7.6"
  }
 },
 "nbformat": 4,
 "nbformat_minor": 4
}
