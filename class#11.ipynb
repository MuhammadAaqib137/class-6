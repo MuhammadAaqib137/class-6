{
 "cells": [
  {
   "cell_type": "markdown",
   "metadata": {},
   "source": [
    "# Object Oriented Programming"
   ]
  },
  {
   "cell_type": "code",
   "execution_count": 2,
   "metadata": {},
   "outputs": [],
   "source": [
    "#defining class \n",
    "class Computer():\n",
    "    def __init__(self):#Construcor or initializer , in other language constructor must be same as class name but python break this restriction\n",
    "        self.manufacturar = \"lenovo\"#attributes\n",
    "        self.model = \"ideapad33305\"\n",
    "        print(\"I am Constructor, Your Object is created\")\n",
    "    #behaviours\n",
    "    def showConf(self):#object is needed to call this method\n",
    "        print(\"i5\",'16GB','1TB')#instance/object method"
   ]
  },
  {
   "cell_type": "code",
   "execution_count": 3,
   "metadata": {},
   "outputs": [
    {
     "name": "stdout",
     "output_type": "stream",
     "text": [
      "I am Constructor, Your Object is created\n"
     ]
    }
   ],
   "source": [
    "obj = Computer()"
   ]
  },
  {
   "cell_type": "code",
   "execution_count": 4,
   "metadata": {},
   "outputs": [
    {
     "data": {
      "text/plain": [
       "'lenovo'"
      ]
     },
     "execution_count": 4,
     "metadata": {},
     "output_type": "execute_result"
    }
   ],
   "source": [
    "obj.manufacturar"
   ]
  },
  {
   "cell_type": "code",
   "execution_count": 6,
   "metadata": {},
   "outputs": [
    {
     "name": "stdout",
     "output_type": "stream",
     "text": [
      "i5 16GB 1TB\n"
     ]
    }
   ],
   "source": [
    "obj.showConf()"
   ]
  },
  {
   "cell_type": "code",
   "execution_count": 7,
   "metadata": {},
   "outputs": [
    {
     "data": {
      "text/plain": [
       "'ideapad33305'"
      ]
     },
     "execution_count": 7,
     "metadata": {},
     "output_type": "execute_result"
    }
   ],
   "source": [
    "obj.model"
   ]
  },
  {
   "cell_type": "code",
   "execution_count": 8,
   "metadata": {},
   "outputs": [
    {
     "name": "stdout",
     "output_type": "stream",
     "text": [
      "I am Constructor, Your Object is created\n"
     ]
    }
   ],
   "source": [
    "#2nd object\n",
    "obj2=Computer()"
   ]
  },
  {
   "cell_type": "code",
   "execution_count": 10,
   "metadata": {},
   "outputs": [
    {
     "data": {
      "text/plain": [
       "'lenovo'"
      ]
     },
     "execution_count": 10,
     "metadata": {},
     "output_type": "execute_result"
    }
   ],
   "source": [
    "obj2.manufacturar\n"
   ]
  },
  {
   "cell_type": "code",
   "execution_count": 12,
   "metadata": {},
   "outputs": [
    {
     "name": "stdout",
     "output_type": "stream",
     "text": [
      "i5 16GB 1TB\n"
     ]
    }
   ],
   "source": [
    "obj2.showConf()"
   ]
  },
  {
   "cell_type": "code",
   "execution_count": 13,
   "metadata": {},
   "outputs": [],
   "source": [
    "#defining class \n",
    "class Computer():\n",
    "    def __init__(self,processor,ram,drive):\n",
    "        self.processor = processor\n",
    "        self.ram = ram\n",
    "        self.drive = drive\n",
    "        self.manufacturar = \"lenovo\"#attributes\n",
    "        self.model = \"ideapad33305\"\n",
    "        print(\"I am Constructor, Your Object is created\")\n",
    "    #behaviours\n",
    "    def showConf(self):#object is needed to call this method\n",
    "        print(self.processor,self.ram,self.drive)#instance/object method"
   ]
  },
  {
   "cell_type": "code",
   "execution_count": 14,
   "metadata": {},
   "outputs": [
    {
     "name": "stdout",
     "output_type": "stream",
     "text": [
      "I am Constructor, Your Object is created\n"
     ]
    }
   ],
   "source": [
    "newObj=Computer('i9','64Gb','1Pb')"
   ]
  },
  {
   "cell_type": "code",
   "execution_count": 16,
   "metadata": {},
   "outputs": [
    {
     "name": "stdout",
     "output_type": "stream",
     "text": [
      "i9 64Gb 1Pb\n"
     ]
    }
   ],
   "source": [
    "newObj.showConf()\n",
    "#self: name of object ,or reference of object"
   ]
  },
  {
   "cell_type": "code",
   "execution_count": 18,
   "metadata": {},
   "outputs": [
    {
     "name": "stdout",
     "output_type": "stream",
     "text": [
      "i9 64Gb 1Pb\n"
     ]
    }
   ],
   "source": [
    "# without using funcitonality of self\n",
    "Computer.showConf(newObj)"
   ]
  },
  {
   "cell_type": "code",
   "execution_count": null,
   "metadata": {},
   "outputs": [],
   "source": []
  }
 ],
 "metadata": {
  "kernelspec": {
   "display_name": "Python 3",
   "language": "python",
   "name": "python3"
  },
  "language_info": {
   "codemirror_mode": {
    "name": "ipython",
    "version": 3
   },
   "file_extension": ".py",
   "mimetype": "text/x-python",
   "name": "python",
   "nbconvert_exporter": "python",
   "pygments_lexer": "ipython3",
   "version": "3.7.6"
  }
 },
 "nbformat": 4,
 "nbformat_minor": 4
}
