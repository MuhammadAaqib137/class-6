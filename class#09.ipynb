{
 "cells": [
  {
   "cell_type": "code",
   "execution_count": 1,
   "metadata": {},
   "outputs": [
    {
     "name": "stdout",
     "output_type": "stream",
     "text": [
      "Printing model: dodecahedron\n",
      "Printing model: robot pendant\n",
      "Printing model: iphone case\n",
      "\n",
      "The following models have been printed:\n",
      "dodecahedron\n",
      "robot pendant\n",
      "iphone case\n"
     ]
    }
   ],
   "source": [
    "#passing list in function\n",
    "def print_models(unprinted_designs, completed_models):   \n",
    "    \"\"\"    Simulate printing each design, until none are left.\n",
    "    Move each design to completed_models after printing.    \"\"\"   \n",
    "    while unprinted_designs:        \n",
    "        current_design = unprinted_designs.pop()      \n",
    "        # Simulate creating a 3D print from the design.      \n",
    "        print(\"Printing model: \" + current_design)      \n",
    "        completed_models.append(current_design)        \n",
    "def show_completed_models(completed_models):   \n",
    "    \"\"\"Show all the models that were printed.\"\"\"\n",
    "    print(\"\\nThe following models have been printed:\")    \n",
    "    for completed_model in completed_models:        \n",
    "        print(completed_model)        \n",
    "unprinted_designs = ['iphone case', 'robot pendant', 'dodecahedron'] \n",
    "completed_models = []\n",
    "print_models(unprinted_designs, completed_models) \n",
    "show_completed_models(completed_models)\n"
   ]
  },
  {
   "cell_type": "code",
   "execution_count": 3,
   "metadata": {},
   "outputs": [
    {
     "name": "stdout",
     "output_type": "stream",
     "text": [
      "\n",
      "The following models have been printed:\n",
      "Printing model: dodecahedron\n",
      "Printing model: robot pendant\n",
      "Printing model: iphone case\n"
     ]
    }
   ],
   "source": [
    "#passing list in function\n",
    "def print_models(unprinted_designs, completed_models):   \n",
    "    \"\"\"    Simulate printing each design, until none are left.\n",
    "    Move each design to completed_models after printing.    \"\"\"   \n",
    "    while unprinted_designs:        \n",
    "        current_design = unprinted_designs.pop()      \n",
    "        # Simulate creating a 3D print from the design.      \n",
    "        print(\"Printing model: \" + current_design)      \n",
    "        completed_models.append(current_design)        \n",
    "def show_completed_models(completed_models):   \n",
    "    \"\"\"Show all the models that were printed.\"\"\"\n",
    "    print(\"\\nThe following models have been printed:\")    \n",
    "    for completed_model in completed_models:        \n",
    "        print(completed_model)        \n",
    "unprinted_designs = ['iphone case', 'robot pendant', 'dodecahedron'] \n",
    "completed_models = []\n",
    "show_completed_models(completed_models)\n",
    "print_models(unprinted_designs[:],completed_models)"
   ]
  },
  {
   "cell_type": "code",
   "execution_count": 4,
   "metadata": {},
   "outputs": [
    {
     "data": {
      "text/plain": [
       "['iphone case', 'robot pendant', 'dodecahedron']"
      ]
     },
     "execution_count": 4,
     "metadata": {},
     "output_type": "execute_result"
    }
   ],
   "source": [
    "unprinted_designs"
   ]
  },
  {
   "cell_type": "code",
   "execution_count": 7,
   "metadata": {},
   "outputs": [
    {
     "name": "stdout",
     "output_type": "stream",
     "text": [
      "Hassan\n",
      "Haseeb\n"
     ]
    }
   ],
   "source": [
    "#Excersice 8.9\n",
    "def print_magician_names(magician_names):\n",
    "    for magician_name in magician_names:\n",
    "        print(magician_name)\n",
    "magician_names=['Hassan', 'Haseeb']\n",
    "print_magician_names(magician_names)\n",
    "great= []"
   ]
  },
  {
   "cell_type": "code",
   "execution_count": 8,
   "metadata": {},
   "outputs": [
    {
     "name": "stdout",
     "output_type": "stream",
     "text": [
      "The great : Haseeb\n",
      "The great : Hassan\n"
     ]
    }
   ],
   "source": [
    "#Excersice #8.10\n",
    "def make_great(magician_names):   \n",
    "\n",
    "    while magician_names:        \n",
    "        current_magician = magician_names.pop()      \n",
    "        # Simulate creating a 3D print from the design.      \n",
    "        print(\"The great  \" + current_magician)      \n",
    "        great.append(current_magician)   \n",
    "make_great(magician_names[:])"
   ]
  },
  {
   "cell_type": "code",
   "execution_count": 10,
   "metadata": {},
   "outputs": [
    {
     "name": "stdout",
     "output_type": "stream",
     "text": [
      "('mushrooms', 'green peppers')\n",
      "('pepperoni',)\n"
     ]
    }
   ],
   "source": [
    "#we use arbitrary arguement when we doesn't know the number of parameters pass by user we will use arbitrrary\n",
    "def make_pizza(*toppings):\n",
    "    print(toppings)\n",
    "make_pizza('mushrooms','green peppers')\n",
    "make_pizza('pepperoni')\n",
    "#it give answer in tuple form we have to unpack value to avoid get value in tuple form "
   ]
  },
  {
   "cell_type": "code",
   "execution_count": 13,
   "metadata": {},
   "outputs": [
    {
     "name": "stdout",
     "output_type": "stream",
     "text": [
      "\n",
      "Making a pizza with the following toppings:\n",
      "- mushrooms\n",
      "- green peppers\n",
      "\n",
      "Making a pizza with the following toppings:\n",
      "- pepperoni\n"
     ]
    }
   ],
   "source": [
    "#unpacking tuple\n",
    "def make_pizza(*toppings):\n",
    "    print(\"\\nMaking a pizza with the following toppings:\")   \n",
    "    for topping in toppings:    \n",
    "        print(\"- \" + topping)\n",
    "make_pizza('mushrooms','green peppers')\n",
    "make_pizza('pepperoni')"
   ]
  },
  {
   "cell_type": "code",
   "execution_count": 15,
   "metadata": {},
   "outputs": [
    {
     "name": "stdout",
     "output_type": "stream",
     "text": [
      "\n",
      "Making a 16-inch pizza with the following toppings:\n",
      "- pepperoni\n",
      "\n",
      "Making a 12-inch pizza with the following toppings:\n",
      "- mushrooms\n",
      "- green peppers\n",
      "- extra cheese\n"
     ]
    }
   ],
   "source": [
    "#Mixing Positional and Arbitrary Arguments\n",
    "def make_pizza(size, *toppings):  \n",
    "    \"\"\"Summarize the pizza we are about to make.\"\"\"   \n",
    "    print(\"\\nMaking a \" + str(size) +           \"-inch pizza with the following toppings:\")    \n",
    "    for topping in toppings:  \n",
    "        print(\"- \" + topping)\n",
    "make_pizza(16, 'pepperoni') \n",
    "make_pizza(12, 'mushrooms', 'green peppers', 'extra cheese')"
   ]
  },
  {
   "cell_type": "code",
   "execution_count": 17,
   "metadata": {},
   "outputs": [
    {
     "name": "stdout",
     "output_type": "stream",
     "text": [
      "{'first_name': 'albert', 'last_name': 'einstein', 'location': 'princeton', 'field': 'physics'}\n"
     ]
    }
   ],
   "source": [
    "#arbitrary keywords argument\n",
    "def make_profile(first,last,**user_info):\n",
    "    \"\"\"build a dictionary containing evreything we know about a user\"\"\"\n",
    "    profile={}\n",
    "    profile['first_name']=first\n",
    "    profile['last_name']=last\n",
    "    for key,value in user_info.items():\n",
    "        profile[key]=value\n",
    "    return profile\n",
    "user_profile = make_profile('albert', 'einstein',  location='princeton',   field='physics') \n",
    "print(user_profile)\n"
   ]
  },
  {
   "cell_type": "code",
   "execution_count": 20,
   "metadata": {},
   "outputs": [
    {
     "name": "stdout",
     "output_type": "stream",
     "text": [
      "\n",
      "Making a  sandwich with the following items:\n",
      "- fries\n",
      "- chicken\n",
      "\n",
      "Making a  sandwich with the following items:\n",
      "- souces\n",
      "- black peppers\n",
      "- egg\n"
     ]
    }
   ],
   "source": [
    "#8.12\n",
    "def make_sandwich(*items):  \n",
    "    \"\"\"Summarize the sandwich we are about to make.\"\"\"   \n",
    "    print(\"\\nMaking a  sandwich with the following items:\")    \n",
    "    for item in items: \n",
    "        print(\"- \" + item)\n",
    "make_sandwich('fries','chicken') \n",
    "make_sandwich( 'souces', 'black peppers', 'egg')"
   ]
  },
  {
   "cell_type": "code",
   "execution_count": 21,
   "metadata": {},
   "outputs": [
    {
     "name": "stdout",
     "output_type": "stream",
     "text": [
      "{'first_name': 'Muhammad', 'last_name': 'Aaqib', 'location': 'Liyari', 'field': 'Data Scientist'}\n"
     ]
    }
   ],
   "source": [
    "#8.13\n",
    "def make_profile(first,last,**user_info):\n",
    "    \"\"\"build a dictionary containing evreything we know about a user\"\"\"\n",
    "    profile={}\n",
    "    profile['first_name']=first\n",
    "    profile['last_name']=last\n",
    "    for key,value in user_info.items():\n",
    "        profile[key]=value\n",
    "    return profile\n",
    "user_profile = make_profile('Muhammad', 'Aaqib',  location='Liyari',   field='Data Scientist') \n",
    "print(user_profile)"
   ]
  },
  {
   "cell_type": "code",
   "execution_count": 23,
   "metadata": {},
   "outputs": [
    {
     "name": "stdout",
     "output_type": "stream",
     "text": [
      "{'man_name': 'Muhammad', 'model_name': 'cultus', 'color': 'red', 'tow_package': True}\n"
     ]
    }
   ],
   "source": [
    "#8.14 \n",
    "#** use for multiple keywopred arguement and store value in dictionary form\n",
    "\n",
    "def car_info(manufacturar,model,**car_info):\n",
    "    \"\"\"build a dictionary containing evreything we know about a user\"\"\"\n",
    "    car_profile={}\n",
    "    car_profile['man_name']=manufacturar\n",
    "    car_profile['model_name']=model\n",
    "    for key,value in car_info.items():\n",
    "        car_profile[key]=value\n",
    "    return car_profile\n",
    "car_profile = car_info('Muhammad', 'cultus',  color='red',   tow_package=True) \n",
    "print(car_profile)"
   ]
  },
  {
   "cell_type": "code",
   "execution_count": 29,
   "metadata": {},
   "outputs": [],
   "source": [
    "#storing your function in module\n",
    "%run textutility"
   ]
  },
  {
   "cell_type": "code",
   "execution_count": 31,
   "metadata": {},
   "outputs": [
    {
     "data": {
      "text/plain": [
       "5"
      ]
     },
     "execution_count": 31,
     "metadata": {},
     "output_type": "execute_result"
    }
   ],
   "source": [
    "import textutility\n",
    "char_count(\"Aaqib\")\n"
   ]
  },
  {
   "cell_type": "code",
   "execution_count": 32,
   "metadata": {},
   "outputs": [
    {
     "data": {
      "text/plain": [
       "2"
      ]
     },
     "execution_count": 32,
     "metadata": {},
     "output_type": "execute_result"
    }
   ],
   "source": [
    "word_Count(\"Hello wordl\")"
   ]
  },
  {
   "cell_type": "code",
   "execution_count": 33,
   "metadata": {},
   "outputs": [],
   "source": [
    "#for importing particular function from a module\n",
    "from textutility import char_count\n",
    "#char_count is avalaible only"
   ]
  },
  {
   "cell_type": "code",
   "execution_count": null,
   "metadata": {},
   "outputs": [],
   "source": [
    "#assignment = remove extra white space, puntuations "
   ]
  }
 ],
 "metadata": {
  "kernelspec": {
   "display_name": "Python 3",
   "language": "python",
   "name": "python3"
  },
  "language_info": {
   "codemirror_mode": {
    "name": "ipython",
    "version": 3
   },
   "file_extension": ".py",
   "mimetype": "text/x-python",
   "name": "python",
   "nbconvert_exporter": "python",
   "pygments_lexer": "ipython3",
   "version": "3.7.6"
  }
 },
 "nbformat": 4,
 "nbformat_minor": 4
}
