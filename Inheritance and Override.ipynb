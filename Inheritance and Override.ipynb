{
 "cells": [
  {
   "cell_type": "code",
   "execution_count": 1,
   "metadata": {},
   "outputs": [],
   "source": [
    "class Car():    \n",
    "    \"\"\"A simple attempt to represent a car.\"\"\"\n",
    "    def __init__(self, make, model, year):\n",
    "        self.make = make \n",
    "        self.model = model   \n",
    "        self.year = year   \n",
    "        self.odometer_reading = 0 \n",
    "    def get_descriptive_name(self):\n",
    "        long_name = str(self.year) + ' ' + self.make + ' ' + self.model\n",
    "        return long_name.title()  \n",
    "    def read_odometer(self):   \n",
    "        print(\"This car has \" + str(self.odometer_reading) + \" miles on it.\")\n",
    "    def update_odometer(self, mileage):       \n",
    "        if mileage >= self.odometer_reading:  \n",
    "            self.odometer_reading = mileage   \n",
    "        else: \n",
    "            print(\"You can't roll back an odometer!\")\n",
    "    def increment_odometer(self, miles): \n",
    "        self.odometer_reading += miles\n"
   ]
  },
  {
   "cell_type": "code",
   "execution_count": 3,
   "metadata": {},
   "outputs": [
    {
     "name": "stdout",
     "output_type": "stream",
     "text": [
      "2016 Tesla Model S\n"
     ]
    }
   ],
   "source": [
    " class ElectricCar(Car):   \n",
    "        \"\"\"Represent aspects of a car, specific to electric vehicles.\"\"\"    \n",
    "        def __init__(self, make, model, year):        \n",
    "            \"\"\"Initialize attributes of the parent class.\"\"\" \n",
    "            super().__init__(make, model, year)        \n",
    "my_tesla = ElectricCar('tesla', 'model s', 2016)\n",
    "print(my_tesla.get_descriptive_name())\n"
   ]
  },
  {
   "cell_type": "code",
   "execution_count": 7,
   "metadata": {},
   "outputs": [],
   "source": [
    "class Restaurant():\n",
    "    def __init__(self,restaurant_name,cuisine_type):\n",
    "        self.restaurant_name = restaurant_name\n",
    "        self.cuisine_type = cuisine_type\n",
    "    def describe_restaurant(self):\n",
    "        print(\"The restaurant name is \"+self.restaurant_name+ \"Cuisine type is \"+self.cuisine_type)\n",
    "    def open_restaurant(self):\n",
    "        print(\"Restaurant is open\")"
   ]
  },
  {
   "cell_type": "code",
   "execution_count": 9,
   "metadata": {},
   "outputs": [],
   "source": [
    "restaurant = Restaurant(\"Foods Inn\" , \"German\")"
   ]
  },
  {
   "cell_type": "code",
   "execution_count": 11,
   "metadata": {},
   "outputs": [
    {
     "name": "stdout",
     "output_type": "stream",
     "text": [
      "The restaurant name is Foods InnCuisine type is German\n"
     ]
    }
   ],
   "source": [
    "restaurant.describe_restaurant()"
   ]
  },
  {
   "cell_type": "code",
   "execution_count": 12,
   "metadata": {},
   "outputs": [],
   "source": [
    "#9.2\n",
    "restaurant1=Restaurant('Food Centre' , \"Italian\")\n",
    "restaurant2=Restaurant('Dua Restaurant' , \"Chinese\")\n",
    "restaurant3=Restaurant('Imli Chilli' , \"German\")\n"
   ]
  },
  {
   "cell_type": "code",
   "execution_count": 14,
   "metadata": {},
   "outputs": [
    {
     "name": "stdout",
     "output_type": "stream",
     "text": [
      "The restaurant name is Food CentreCuisine type is Italian\n"
     ]
    }
   ],
   "source": [
    "restaurant1.describe_restaurant()"
   ]
  },
  {
   "cell_type": "code",
   "execution_count": 15,
   "metadata": {},
   "outputs": [
    {
     "name": "stdout",
     "output_type": "stream",
     "text": [
      "The restaurant name is Dua RestaurantCuisine type is Chinese\n"
     ]
    }
   ],
   "source": [
    "restaurant2.describe_restaurant()"
   ]
  },
  {
   "cell_type": "code",
   "execution_count": 16,
   "metadata": {},
   "outputs": [
    {
     "name": "stdout",
     "output_type": "stream",
     "text": [
      "The restaurant name is Imli ChilliCuisine type is German\n"
     ]
    }
   ],
   "source": [
    "restaurant3.describe_restaurant()"
   ]
  },
  {
   "cell_type": "code",
   "execution_count": 17,
   "metadata": {},
   "outputs": [],
   "source": [
    "class User():\n",
    "    def __init__(self, first_name,last_name,Age,Address):\n",
    "        self.first_name=first_name\n",
    "        self.last_name=last_name\n",
    "        self.Age=Age\n",
    "        self.Address=Address\n",
    "    def describe_user(self):\n",
    "        print(\"User name : \"+self.first_name+\" \"+self.last_name)\n",
    "        print(\"Age : \"+str(self.Age))\n",
    "        print(\"Address \"+str(self.Address))"
   ]
  },
  {
   "cell_type": "code",
   "execution_count": 18,
   "metadata": {},
   "outputs": [],
   "source": [
    "class Restaurant():\n",
    "    def __init__(self,restaurant_name,cuisine_type):\n",
    "        self.restaurant_name = restaurant_name\n",
    "        self.cuisine_type = cuisine_type\n",
    "        self.served = 0\n",
    "    def describe_restaurant(self):\n",
    "        print(\"The restaurant name is \"+self.restaurant_name+ \"Cuisine type is \"+self.cuisine_type)\n",
    "    def open_restaurant(self):\n",
    "        print(\"Restaurant is open\") "
   ]
  },
  {
   "cell_type": "code",
   "execution_count": 19,
   "metadata": {},
   "outputs": [],
   "source": [
    "r = Restaurant(\"r\",\"i\")"
   ]
  },
  {
   "cell_type": "code",
   "execution_count": 20,
   "metadata": {},
   "outputs": [
    {
     "data": {
      "text/plain": [
       "0"
      ]
     },
     "execution_count": 20,
     "metadata": {},
     "output_type": "execute_result"
    }
   ],
   "source": [
    "r.served"
   ]
  },
  {
   "cell_type": "code",
   "execution_count": 21,
   "metadata": {},
   "outputs": [],
   "source": [
    "r.server= 1"
   ]
  },
  {
   "cell_type": "code",
   "execution_count": 22,
   "metadata": {},
   "outputs": [],
   "source": [
    "r.served=1\n"
   ]
  },
  {
   "cell_type": "code",
   "execution_count": 23,
   "metadata": {},
   "outputs": [
    {
     "data": {
      "text/plain": [
       "1"
      ]
     },
     "execution_count": 23,
     "metadata": {},
     "output_type": "execute_result"
    }
   ],
   "source": [
    "r.served"
   ]
  },
  {
   "cell_type": "code",
   "execution_count": 24,
   "metadata": {},
   "outputs": [],
   "source": [
    "class Car():    \n",
    "    \"\"\"A simple attempt to represent a car.\"\"\"\n",
    "    def __init__(self, make, model, year):\n",
    "        self.make = make \n",
    "        self.model = model   \n",
    "        self.year = year   \n",
    "        self.odometer_reading = 0 \n",
    "    def get_descriptive_name(self):\n",
    "        long_name = str(self.year) + ' ' + self.make + ' ' + self.model\n",
    "        return long_name.title()  \n",
    "    def read_odometer(self):   \n",
    "        print(\"This car has \" + str(self.odometer_reading) + \" miles on it.\")\n",
    "    def update_odometer(self, mileage):       \n",
    "        if mileage >= self.odometer_reading:  \n",
    "            self.odometer_reading = mileage   \n",
    "        else: \n",
    "            print(\"You can't roll back an odometer!\")\n",
    "    def increment_odometer(self, miles): \n",
    "        self.odometer_reading += miles\n"
   ]
  },
  {
   "cell_type": "code",
   "execution_count": 36,
   "metadata": {},
   "outputs": [],
   "source": [
    "class Battery():\n",
    "    def __init__(self,size):\n",
    "        self.size = size\n",
    "    def describe_battery(self):\n",
    "        print(self.size)\n",
    "        "
   ]
  },
  {
   "cell_type": "code",
   "execution_count": 35,
   "metadata": {},
   "outputs": [],
   "source": [
    "#page no 74\n",
    "class Car():    \n",
    "    \"\"\"A simple attempt to represent a car.\"\"\"\n",
    "    def __init__(self, make, model, year):\n",
    "        self.make = make \n",
    "        self.model = model   \n",
    "        self.year = year   \n",
    "        self.odometer_reading = 0 \n",
    "    def get_descriptive_name(self):\n",
    "        long_name = str(self.year) + ' ' + self.make + ' ' + self.model\n",
    "        return long_name.title()  \n",
    "    def read_odometer(self):   \n",
    "        print(\"This car has \" + str(self.odometer_reading) + \" miles on it.\")\n",
    "    def update_odometer(self, mileage):       \n",
    "        if mileage >= self.odometer_reading:  \n",
    "            self.odometer_reading = mileage   \n",
    "        else: \n",
    "            print(\"You can't roll back an odometer!\")\n",
    "    def increment_odometer(self, miles): \n",
    "        self.odometer_reading += miles\n"
   ]
  },
  {
   "cell_type": "code",
   "execution_count": 38,
   "metadata": {},
   "outputs": [],
   "source": [
    "class ElectricCar(Car):  \n",
    "    \"\"\"Represent aspects of a car, specific to electric vehicles.\"\"\"\n",
    "    def __init__(self, make, model, year):\n",
    "        \"\"\"        Initialize attributes of the parent class.       \n",
    "        Then initialize attributes specific to an electric car.        \"\"\"     \n",
    "        super().__init__(make, model, year) \n",
    "        self.battery = Battery('1') "
   ]
  },
  {
   "cell_type": "code",
   "execution_count": 39,
   "metadata": {},
   "outputs": [
    {
     "name": "stdout",
     "output_type": "stream",
     "text": [
      "2016 Tesla Model S\n",
      "1\n"
     ]
    }
   ],
   "source": [
    "my_tesla = ElectricCar('tesla', 'model s', 2016)\n",
    "print(my_tesla.get_descriptive_name()) \n",
    "my_tesla.battery.describe_battery()"
   ]
  },
  {
   "cell_type": "code",
   "execution_count": null,
   "metadata": {},
   "outputs": [],
   "source": []
  }
 ],
 "metadata": {
  "kernelspec": {
   "display_name": "Python 3",
   "language": "python",
   "name": "python3"
  },
  "language_info": {
   "codemirror_mode": {
    "name": "ipython",
    "version": 3
   },
   "file_extension": ".py",
   "mimetype": "text/x-python",
   "name": "python",
   "nbconvert_exporter": "python",
   "pygments_lexer": "ipython3",
   "version": "3.7.6"
  }
 },
 "nbformat": 4,
 "nbformat_minor": 4
}
