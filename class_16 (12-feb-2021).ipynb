{
 "cells": [
  {
   "cell_type": "code",
   "execution_count": 1,
   "metadata": {},
   "outputs": [
    {
     "name": "stdout",
     "output_type": "stream",
     "text": [
      "Requirement already satisfied: django in c:\\users\\r01-pc04\\anaconda3\\lib\\site-packages (3.1.6)\n",
      "Requirement already satisfied: pytz in c:\\users\\r01-pc04\\anaconda3\\lib\\site-packages (from django) (2020.1)\n",
      "Requirement already satisfied: sqlparse>=0.2.2 in c:\\users\\r01-pc04\\anaconda3\\lib\\site-packages (from django) (0.4.1)\n",
      "Requirement already satisfied: asgiref<4,>=3.2.10 in c:\\users\\r01-pc04\\anaconda3\\lib\\site-packages (from django) (3.3.1)\n"
     ]
    }
   ],
   "source": [
    "!pip install django"
   ]
  },
  {
   "cell_type": "markdown",
   "metadata": {},
   "source": [
    "# Python\n",
    "\t-Flask\n",
    "\t-Django\n",
    "Numpy\n",
    "Statistics: Univariable Tendency, Bi-Variant, \n",
    "Pandas\n",
    "\t-Funnel\n",
    "\t-AB Testing\n",
    "\t-Churn Analysis\n",
    "\t-etc..\n",
    "ML:(sckitlearn, SVM, xgboast, Random Forest etc.. )\n",
    "Deep Learning:(neural networks, \n",
    "AWS (Amazon Web Services)  cloud service"
   ]
  },
  {
   "cell_type": "markdown",
   "metadata": {},
   "source": [
    "commands of Django"
   ]
  },
  {
   "cell_type": "markdown",
   "metadata": {},
   "source": []
  }
 ],
 "metadata": {
  "kernelspec": {
   "display_name": "Python 3",
   "language": "python",
   "name": "python3"
  },
  "language_info": {
   "codemirror_mode": {
    "name": "ipython",
    "version": 3
   },
   "file_extension": ".py",
   "mimetype": "text/x-python",
   "name": "python",
   "nbconvert_exporter": "python",
   "pygments_lexer": "ipython3",
   "version": "3.8.5"
  }
 },
 "nbformat": 4,
 "nbformat_minor": 4
}
