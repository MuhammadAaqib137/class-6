{
 "cells": [
  {
   "cell_type": "code",
   "execution_count": 1,
   "metadata": {},
   "outputs": [],
   "source": [
    "#9.6\n",
    "class Restaurant():\n",
    "    def __init__(self,restaurant_name,cuisine_type):\n",
    "        self.restaurant_name = restaurant_name\n",
    "        self.cuisine_type = cuisine_type\n",
    "    def describe_restaurant(self):\n",
    "        print(\"The restaurant name is \"+self.restaurant_name+ \"Cuisine type is \"+self.cuisine_type)\n",
    "    def open_restaurant(self):\n",
    "        print(\"Restaurant is open\")"
   ]
  },
  {
   "cell_type": "code",
   "execution_count": 14,
   "metadata": {},
   "outputs": [],
   "source": [
    "class IceCreamStand(Restaurant):\n",
    "    def __init__(self,flavours):\n",
    "        self.flavours=flavours\n",
    "    def Show_flavours(self):\n",
    "        print(\"Flavours : \")\n",
    "        for flavour in self.flavours:\n",
    "            print(flavour)\n",
    "ice = IceCreamStand(['mango','vanila','pista'])"
   ]
  },
  {
   "cell_type": "code",
   "execution_count": 15,
   "metadata": {},
   "outputs": [
    {
     "name": "stdout",
     "output_type": "stream",
     "text": [
      "Flavours : \n",
      "mango\n",
      "vanila\n",
      "pista\n"
     ]
    }
   ],
   "source": [
    "ice.Show_flavours()"
   ]
  },
  {
   "cell_type": "code",
   "execution_count": 28,
   "metadata": {},
   "outputs": [],
   "source": [
    "class Administrator(User):\n",
    "    def __init__(self,privileges):\n",
    "        self.privileges=privileges\n",
    "    def show_privileges(self):\n",
    "        print(\"An Admin can \")\n",
    "        for privileges in self.privileges:\n",
    "            print(privileges, end=\"\")\n",
    "    \n",
    "    "
   ]
  },
  {
   "cell_type": "code",
   "execution_count": 31,
   "metadata": {},
   "outputs": [],
   "source": [
    "a= Administrator(['add post',' delete post', 'ban user'])"
   ]
  },
  {
   "cell_type": "code",
   "execution_count": 32,
   "metadata": {},
   "outputs": [
    {
     "name": "stdout",
     "output_type": "stream",
     "text": [
      "An Admin can \n",
      "add post delete postban user"
     ]
    }
   ],
   "source": [
    "a.show_privileges()"
   ]
  },
  {
   "cell_type": "code",
   "execution_count": 36,
   "metadata": {},
   "outputs": [],
   "source": [
    "#9.8\n",
    "class Privileges():\n",
    "    def __init__(self,privileges):\n",
    "        self.privileges=privileges\n",
    "    def show_privileges(self):\n",
    "        print(\"An Admin can \")\n",
    "        for privileges in self.privileges:\n",
    "            print(privileges, end=\"\")\n",
    "    "
   ]
  },
  {
   "cell_type": "code",
   "execution_count": 42,
   "metadata": {},
   "outputs": [],
   "source": [
    "admin= Administrator(['can add user','can remove','can ban'])"
   ]
  },
  {
   "cell_type": "code",
   "execution_count": 43,
   "metadata": {},
   "outputs": [
    {
     "name": "stdout",
     "output_type": "stream",
     "text": [
      "An Admin can \n",
      "can add usercan removecan ban"
     ]
    }
   ],
   "source": [
    "admin.privilege.show_privileges()"
   ]
  },
  {
   "cell_type": "code",
   "execution_count": 44,
   "metadata": {},
   "outputs": [
    {
     "name": "stdout",
     "output_type": "stream",
     "text": [
      "User name is: Muhammad Aaqib\n",
      "User is Male by gender\n",
      "User email address is muhammadaaqibkhatri@gmail.com\n"
     ]
    }
   ],
   "source": [
    "#9.7\n",
    "\n",
    "class User():\n",
    "    def __init__(self,first_name, last_name, gender, email, password):\n",
    "        self.first_name = first_name\n",
    "        self.last_name =last_name\n",
    "        self.gender =gender\n",
    "        self.email =email\n",
    "        self.password =password\n",
    "        self.login_attempts = 0\n",
    "    def describe_user(self):\n",
    "        print(f\"User name is: {self.first_name} {self.last_name}\")\n",
    "        print(f\"User is {self.gender} by gender\")\n",
    "        print(f\"User email address is {self.email}\")\n",
    "    def greet_user(self):\n",
    "        if self.gender.lower()==\"female\":\n",
    "            print(f\"Welcome Miss {self.first_name} {self.last_name}\")\n",
    "        else:\n",
    "            print(f\"Welcome Mr. {self.first_name} {self.last_name}\")\n",
    "    def increment_login_attempts(self):\n",
    "        self.login_attempts +=1\n",
    "    def reset_login_attempts(self):\n",
    "        self.login_attempts = 0\n",
    "user = User('Muhammad','Aaqib','Male','muhammadaaqibkhatri@gmail.com','1234')\n",
    "user.describe_user()"
   ]
  },
  {
   "cell_type": "code",
   "execution_count": 40,
   "metadata": {},
   "outputs": [],
   "source": [
    "class Administrator(User):\n",
    "    def __init__(self,privileges):\n",
    "        self.privileges=privileges\n",
    "        self.privilege=Privileges(self.privileges)\n",
    "    \n",
    "    "
   ]
  },
  {
   "cell_type": "code",
   "execution_count": 45,
   "metadata": {},
   "outputs": [],
   "source": [
    "user.increment_login_attempts()"
   ]
  },
  {
   "cell_type": "code",
   "execution_count": 46,
   "metadata": {},
   "outputs": [
    {
     "name": "stdout",
     "output_type": "stream",
     "text": [
      "Welcome Mr. Muhammad Aaqib\n"
     ]
    }
   ],
   "source": [
    "user.greet_user()"
   ]
  },
  {
   "cell_type": "code",
   "execution_count": 49,
   "metadata": {},
   "outputs": [],
   "source": [
    "#9.8\n",
    "class Car():  \n",
    "    \"\"\"A simple attempt to represent a car.\"\"\"\n",
    "    def __init__(self, make, model, year):   \n",
    "        self.make = make   \n",
    "        self.model = model  \n",
    "        self.year = year  \n",
    "        self.odometer_reading = 0  \n",
    "    def get_descriptive_name(self):\n",
    "        long_name = str(self.year) + ' ' + self.make + ' ' + self.model\n",
    "        return long_name.title()\n",
    "    def read_odometer(self):   \n",
    "        print(\"This car has \" + str(self.odometer_reading) + \" miles on it.\")         \n",
    "    def update_odometer(self, mileage):    \n",
    "        if mileage >= self.odometer_reading:    \n",
    "            self.odometer_reading = mileage      \n",
    "        else:\n",
    "            print(\"You can't roll back an odometer!\")   \n",
    "    def increment_odometer(self, miles):     \n",
    "        self.odometer_reading += miles\n",
    "\n",
    "class Battery(): \n",
    "    def get_range(self):       \n",
    "        \"\"\"Print a statement about the range this battery provides.\"\"\"    \n",
    "        if self.battery_size == 70:      \n",
    "            range = 240  \n",
    "        elif self.battery_size == 85:\n",
    "            range = 270  \n",
    "        message = \"This car can go approximately \" + str(range)   \n",
    "        message += \" miles on a full charge.\" \n",
    "        print(message) \n",
    "    def upgrade_battery():\n",
    "        if self.battery_size == 85:      \n",
    "             = 85  \n",
    " \n",
    "        \n",
    "\n"
   ]
  },
  {
   "cell_type": "code",
   "execution_count": 50,
   "metadata": {},
   "outputs": [
    {
     "name": "stdout",
     "output_type": "stream",
     "text": [
      "2016 Tesla Model S\n"
     ]
    }
   ],
   "source": [
    "class ElectricCar(Car):   \n",
    "    \"\"\"Represent aspects of a car, specific to electric vehicles.\"\"\"\n",
    "    def __init__(self, make, model, year):        \n",
    "        \"\"\"        Initialize attributes of the parent class.     \n",
    "        Then initialize attributes specific to an electric car.        \"\"\"      \n",
    "        super().__init__(make, model, year)   \n",
    "        self.battery_size = 70  \n",
    "    def describe_battery(self):    \n",
    "        \"\"\"Print a statement describing the battery size.\"\"\"  \n",
    "        print(\"This car has a \" + str(self.battery_size) + \"-kWh battery.\")\n",
    "my_tesla = ElectricCar('tesla', 'model s', 2016)\n",
    "print(my_tesla.get_descriptive_name())"
   ]
  },
  {
   "cell_type": "code",
   "execution_count": 66,
   "metadata": {},
   "outputs": [],
   "source": [
    "class User():\n",
    "    def __init__(self,first_name, last_name, gender, email, password):\n",
    "        self.first_name = first_name\n",
    "        self.last_name =last_name\n",
    "        self.gender =gender\n",
    "        self.email =email\n",
    "        self.password =password\n",
    "        self.login_attempts = 0\n",
    "    def describe_user(self):\n",
    "        print(f\"User name is: {self.first_name} {self.last_name}\")\n",
    "        print(f\"User is {self.gender} by gender\")\n",
    "        print(f\"User email address is {self.email}\")\n",
    "    def greet_user(self):\n",
    "        if self.gender.lower()==\"female\":\n",
    "            print(f\"Welcome Miss {self.first_name} {self.last_name}\")\n",
    "        else:\n",
    "            print(f\"Welcome Mr. {self.first_name} {self.last_name}\")\n",
    "    def increment_login_attempts(self):\n",
    "        self.login_attempts +=1\n",
    "    def reset_login_attempts(self):\n",
    "        self.login_attempts = 0\n",
    "\n",
    "        "
   ]
  },
  {
   "cell_type": "code",
   "execution_count": 74,
   "metadata": {},
   "outputs": [],
   "source": [
    "class Administrator(User):\n",
    "    def __init__(self,first_name, last_name, gender, email, password,privileges):\n",
    "        super().__init__(first_name, last_name, gender, email, password)\n",
    "        self.privileges=privileges\n",
    "    def show_privileges(self):\n",
    "        print(\"Admin privileges are : \")\n",
    "        for priv in self.privileges:\n",
    "            print(priv)\n",
    "    def show_admin(self):\n",
    "        print(f\"{self.first_name}{self.last_name}\")\n",
    "        print(self.email)\n",
    "        print(self.password)\n",
    "        \n",
    "        \n",
    "        \n",
    "    "
   ]
  },
  {
   "cell_type": "code",
   "execution_count": 75,
   "metadata": {},
   "outputs": [],
   "source": [
    "admin=Administrator(\"Amin\",\"Khan\",\"Male\",\"aaqibKhan\",\"12\",['can delete','can post','can ban'])"
   ]
  },
  {
   "cell_type": "code",
   "execution_count": 76,
   "metadata": {},
   "outputs": [
    {
     "name": "stdout",
     "output_type": "stream",
     "text": [
      "AminKhan\n",
      "aaqibKhan\n",
      "12\n"
     ]
    }
   ],
   "source": [
    "admin.show_admin()"
   ]
  },
  {
   "cell_type": "code",
   "execution_count": 77,
   "metadata": {},
   "outputs": [
    {
     "name": "stdout",
     "output_type": "stream",
     "text": [
      "Admin privileges are : \n",
      "can delete\n",
      "can post\n",
      "can ban\n"
     ]
    }
   ],
   "source": [
    "admin.show_privileges()"
   ]
  },
  {
   "cell_type": "code",
   "execution_count": null,
   "metadata": {},
   "outputs": [],
   "source": []
  }
 ],
 "metadata": {
  "kernelspec": {
   "display_name": "Python 3",
   "language": "python",
   "name": "python3"
  },
  "language_info": {
   "codemirror_mode": {
    "name": "ipython",
    "version": 3
   },
   "file_extension": ".py",
   "mimetype": "text/x-python",
   "name": "python",
   "nbconvert_exporter": "python",
   "pygments_lexer": "ipython3",
   "version": "3.8.5"
  }
 },
 "nbformat": 4,
 "nbformat_minor": 4
}
