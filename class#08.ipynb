{
 "cells": [
  {
   "cell_type": "markdown",
   "metadata": {},
   "source": [
    "# Return"
   ]
  },
  {
   "cell_type": "code",
   "execution_count": 1,
   "metadata": {},
   "outputs": [],
   "source": [
    "def fullName():\n",
    "    fname = input(\"Your first name \")\n",
    "    lname = input(\"Your second name \")\n",
    "    fullname = f\"{fname} {lname}\"\n",
    "    print(fullname)"
   ]
  },
  {
   "cell_type": "code",
   "execution_count": 2,
   "metadata": {},
   "outputs": [
    {
     "name": "stdout",
     "output_type": "stream",
     "text": [
      "Your first name Muhammad\n",
      "Your second name Aaqib\n",
      "Muhammad Aaqib\n"
     ]
    }
   ],
   "source": [
    "fullName()"
   ]
  },
  {
   "cell_type": "code",
   "execution_count": 4,
   "metadata": {},
   "outputs": [
    {
     "name": "stdout",
     "output_type": "stream",
     "text": [
      "Your first name A\n",
      "Your second name B\n",
      "A B\n"
     ]
    }
   ],
   "source": [
    "#concept of local and global variable \n",
    "def fullName():\n",
    "    fname = input(\"Your first name \")\n",
    "    lname = input(\"Your second name \")\n",
    "    global fullname \n",
    "    fullname = f\"{fname} {lname}\"\n",
    "    print(fullname)\n",
    "fullName()\n"
   ]
  },
  {
   "cell_type": "code",
   "execution_count": 5,
   "metadata": {},
   "outputs": [
    {
     "data": {
      "text/plain": [
       "'A B'"
      ]
     },
     "execution_count": 5,
     "metadata": {},
     "output_type": "execute_result"
    }
   ],
   "source": [
    "fullname"
   ]
  },
  {
   "cell_type": "code",
   "execution_count": 2,
   "metadata": {},
   "outputs": [
    {
     "name": "stdout",
     "output_type": "stream",
     "text": [
      "Your first name A\n",
      "Your second name B\n"
     ]
    },
    {
     "data": {
      "text/plain": [
       "'A B'"
      ]
     },
     "execution_count": 2,
     "metadata": {},
     "output_type": "execute_result"
    }
   ],
   "source": [
    "def fullName():\n",
    "    fname = input(\"Your first name \")\n",
    "    lname = input(\"Your second name \")\n",
    "    fullname = f\"{fname} {lname}\"\n",
    "    return fullname\n",
    "#y name save the value of fulll name and we can acces it everywhere now like global variable\n",
    "myname = fullName()\n",
    "myname"
   ]
  },
  {
   "cell_type": "code",
   "execution_count": 3,
   "metadata": {},
   "outputs": [
    {
     "name": "stdout",
     "output_type": "stream",
     "text": [
      "Your first name aaq\n",
      "Your second name ib\n"
     ]
    },
    {
     "data": {
      "text/plain": [
       "('aaq ib', 1, 2, ['a', 'c'])"
      ]
     },
     "execution_count": 3,
     "metadata": {},
     "output_type": "execute_result"
    }
   ],
   "source": [
    "#return of function is in tuple form \n",
    "def fullName():#parameter less function\n",
    "    fname = input(\"Your first name \")\n",
    "    lname = input(\"Your second name \")\n",
    "    fullname = f\"{fname} {lname}\"\n",
    "    return fullname , 1,2,['a','c']\n",
    "#y name save the value of fulll name and we can acces it everywhere now like global variable\n",
    "myname = fullName()\n",
    "myname"
   ]
  },
  {
   "cell_type": "code",
   "execution_count": 11,
   "metadata": {},
   "outputs": [
    {
     "name": "stdout",
     "output_type": "stream",
     "text": [
      "3\n"
     ]
    }
   ],
   "source": [
    "#arguments\n",
    "def add(num1,num2):#parameterized\n",
    "    \"\"\"This funciton takes two integer parameter \n",
    "    this funtion is made in saylani class\"\"\"\n",
    "    #abve quote is docstring & for docstring we have to write it on very first line of function with proper indentation other wise it will take as comment of multiple line \n",
    "    return num1+num2\n",
    "print(add(2,1)) #Positional arguments"
   ]
  },
  {
   "cell_type": "code",
   "execution_count": 10,
   "metadata": {},
   "outputs": [
    {
     "name": "stdout",
     "output_type": "stream",
     "text": [
      "15\n"
     ]
    }
   ],
   "source": [
    "print(add(num1=13,num2=2)) #keyword arguments"
   ]
  },
  {
   "cell_type": "code",
   "execution_count": 12,
   "metadata": {},
   "outputs": [
    {
     "name": "stdout",
     "output_type": "stream",
     "text": [
      "3\n"
     ]
    }
   ],
   "source": [
    "#mutiple parmaeter\n",
    "def add(num1=0,num2=0,num3=0):#parameterized\n",
    "    \"\"\"This funciton takes two integer parameter \n",
    "    this funtion is made in saylani class\"\"\"\n",
    "    #abve quote is docstring & for docstring we have to write it on very first line of function with proper indentation other wise it will take as comment of multiple line \n",
    "    return num1+num2+num3\n",
    "print(add(2,1)) #does't give any eror about "
   ]
  },
  {
   "cell_type": "code",
   "execution_count": 15,
   "metadata": {},
   "outputs": [
    {
     "name": "stdout",
     "output_type": "stream",
     "text": [
      "Enter Your salary : 50000\n",
      "Enter income tax %12\n"
     ]
    },
    {
     "data": {
      "text/plain": [
       "44000.0"
      ]
     },
     "execution_count": 15,
     "metadata": {},
     "output_type": "execute_result"
    }
   ],
   "source": [
    "#class excercise\n",
    "def salaryCalculator(salary,incometax):\n",
    "    Final_salary = salary-salary *(incometax/100)\n",
    "    return Final_salary\n",
    "salary = int(input(\"Enter Your salary : \"))\n",
    "incometax = int(input(\"Enter income tax %\"))\n",
    "grosssalary = salaryCalculator(salary,incometax)\n",
    "grosssalary"
   ]
  },
  {
   "cell_type": "code",
   "execution_count": 1,
   "metadata": {},
   "outputs": [],
   "source": [
    "def taxCal(salary):\n",
    "    tax=0\n",
    "    if salary < 50000:\n",
    "        tax=0\n",
    "    elif salary>50000 or salary<60000:\n",
    "        tax = 5\n",
    "      \n",
    "    elif salary>60000 or salary<70000:\n",
    "        tax = 10\n",
    "    else:\n",
    "        tax=20\n",
    "    return  ta\n",
    "        "
   ]
  },
  {
   "cell_type": "code",
   "execution_count": 2,
   "metadata": {},
   "outputs": [
    {
     "name": "stdout",
     "output_type": "stream",
     "text": [
      "Enter Your salary : 50400\n",
      "Your salary is 47880.0\n"
     ]
    }
   ],
   "source": [
    "def salaryCalculator(salary):\n",
    "    Deduction=salary *(taxCal(salary)/100)\n",
    "    Net = salary-Deduction\n",
    "    return Net\n",
    "emp_salary = int(input(\"Enter Your salary : \"))\n",
    "print(f\"Your salary is {salaryCalculator(emp_salary)}\")"
   ]
  },
  {
   "cell_type": "code",
   "execution_count": 4,
   "metadata": {},
   "outputs": [
    {
     "name": "stdout",
     "output_type": "stream",
     "text": [
      "Enter Your salary : 55000\n",
      "Enter your sales :  10\n",
      "Your salary is 57750.0\n"
     ]
    }
   ],
   "source": [
    "#commisstion calculator\n",
    "def taxCal(salary):\n",
    "    tax=0\n",
    "    if salary < 50000:\n",
    "        tax=0\n",
    "    elif salary>50000 or salary<60000:\n",
    "        tax = 5\n",
    "      \n",
    "    elif salary>60000 or salary<70000:\n",
    "        tax = 10\n",
    "    else:\n",
    "        tax=20\n",
    "    return  tax\n",
    "        \n",
    "def commission_cal(sales):\n",
    "    com=0\n",
    "    if sales >= 5 and sales <=10:\n",
    "        com = 10\n",
    "    elif sales >= 11 and sales <=20:\n",
    "        com = 15\n",
    "    elif sales >= 21 and sales <=30:\n",
    "        com = 20\n",
    "    else:\n",
    "        com=25\n",
    "    return  com\n",
    "\n",
    "def salaryCalculator(salary):\n",
    "    Deduction=salary *(taxCal(salary)/100)\n",
    "    sales = int(input(\"Enter your sales :  \"))\n",
    "    Addition = salary*(commission_cal(sales)/100)\n",
    "    Net = salary-Deduction+Addition\n",
    "    return Net\n",
    "emp_salary = int(input(\"Enter Your salary : \"))\n",
    "print(f\"Your salary is {salaryCalculator(emp_salary)}\")"
   ]
  },
  {
   "cell_type": "code",
   "execution_count": 5,
   "metadata": {},
   "outputs": [],
   "source": [
    "#passing lsit in function\n",
    "#return dictionary\n",
    "#passing an arbitrary arguments\n",
    "#mixing of abitrary and posistional "
   ]
  },
  {
   "cell_type": "code",
   "execution_count": null,
   "metadata": {},
   "outputs": [],
   "source": []
  }
 ],
 "metadata": {
  "kernelspec": {
   "display_name": "Python 3",
   "language": "python",
   "name": "python3"
  },
  "language_info": {
   "codemirror_mode": {
    "name": "ipython",
    "version": 3
   },
   "file_extension": ".py",
   "mimetype": "text/x-python",
   "name": "python",
   "nbconvert_exporter": "python",
   "pygments_lexer": "ipython3",
   "version": "3.8.5"
  }
 },
 "nbformat": 4,
 "nbformat_minor": 4
}
