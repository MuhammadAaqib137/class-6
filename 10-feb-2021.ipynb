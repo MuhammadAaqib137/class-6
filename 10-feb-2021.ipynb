{
 "cells": [
  {
   "cell_type": "code",
   "execution_count": 3,
   "metadata": {},
   "outputs": [
    {
     "name": "stdout",
     "output_type": "stream",
     "text": [
      "2016 Audi A4\n",
      "This car has 23 miles on it.\n"
     ]
    }
   ],
   "source": [
    "from car import Car\n",
    "my_new_car = Car('audi', 'a4', 2016)\n",
    "print(my_new_car.get_descriptive_name())\n",
    "my_new_car.odometer_reading = 23\n",
    "my_new_car.read_odometer()"
   ]
  },
  {
   "cell_type": "markdown",
   "metadata": {},
   "source": [
    "# Files and Exception\n",
    "  file modes:\n",
    "     -read 'r'\n",
    "    -write 'w'\n",
    "    -append 'a'\n",
    "    -write + 'w+'\n",
    "    -read + 'r+'\n",
    "    -Binary"
   ]
  },
  {
   "cell_type": "code",
   "execution_count": 10,
   "metadata": {},
   "outputs": [
    {
     "name": "stdout",
     "output_type": "stream",
     "text": [
      "this is line1\n",
      "this is line2\n",
      "this is line3\n",
      "this is line4\n",
      "this is line5\n",
      "this is line6\n"
     ]
    }
   ],
   "source": [
    "#files are use for permanent storage\n",
    "with  open(\"file.txt\") as f:\n",
    "    content = f.read()\n",
    "print(content)"
   ]
  },
  {
   "cell_type": "code",
   "execution_count": 12,
   "metadata": {},
   "outputs": [
    {
     "name": "stdout",
     "output_type": "stream",
     "text": [
      "['this is line1. I am reading a file.']\n",
      "this is line1. I am reading a file.\n",
      "this is line1. I am reading a file.\n"
     ]
    }
   ],
   "source": [
    "#file handling\n",
    "#1-reading file it is by default\n",
    "try:\n",
    "    with open(\"file.txt\") as f:\n",
    "        content= f.readlines()\n",
    "        print(content)\n",
    "        f.seek(0)#for moving cursor to index '0'\n",
    "        content1 = f.read()\n",
    "        print(content1)\n",
    "        f.seek(0)\n",
    "        content2 = f.readline()\n",
    "        print(content2)\n",
    "except FileNotFoundError:\n",
    "    print(\"there is no file found\")"
   ]
  },
  {
   "cell_type": "code",
   "execution_count": 14,
   "metadata": {},
   "outputs": [],
   "source": [
    "#2-writing a file \n",
    "with open ('file.txt','w') as w:#remove all previous content of existing file\n",
    "    w.write(\"I am now in W mode\")"
   ]
  },
  {
   "cell_type": "code",
   "execution_count": 16,
   "metadata": {},
   "outputs": [],
   "source": [
    "#create file and write content in new file\n",
    "with open ('file1.txt','w') as w:\n",
    "    w.write(\"I love Python\")"
   ]
  },
  {
   "cell_type": "code",
   "execution_count": 19,
   "metadata": {},
   "outputs": [
    {
     "data": {
      "text/plain": [
       "'Hello! kese ho'"
      ]
     },
     "execution_count": 19,
     "metadata": {},
     "output_type": "execute_result"
    }
   ],
   "source": [
    "#w+ give read and write mode\n",
    "with open('file.txt','w+') as obj:\n",
    "    obj.write(\"Hello! kese ho\")\n",
    "    obj.seek(0)\n",
    "    c=obj.read()\n",
    "c"
   ]
  },
  {
   "cell_type": "code",
   "execution_count": 21,
   "metadata": {},
   "outputs": [
    {
     "ename": "FileNotFoundError",
     "evalue": "[Errno 2] No such file or directory: 'fil.txt'",
     "output_type": "error",
     "traceback": [
      "\u001b[1;31m---------------------------------------------------------------------------\u001b[0m",
      "\u001b[1;31mFileNotFoundError\u001b[0m                         Traceback (most recent call last)",
      "\u001b[1;32m<ipython-input-21-e1951afc7cf7>\u001b[0m in \u001b[0;36m<module>\u001b[1;34m\u001b[0m\n\u001b[1;32m----> 1\u001b[1;33m \u001b[1;32mwith\u001b[0m \u001b[0mopen\u001b[0m\u001b[1;33m(\u001b[0m\u001b[1;34m'fil.txt'\u001b[0m\u001b[1;33m,\u001b[0m\u001b[1;34m'r+'\u001b[0m\u001b[1;33m)\u001b[0m \u001b[1;32mas\u001b[0m \u001b[0mobj\u001b[0m\u001b[1;33m:\u001b[0m\u001b[1;33m\u001b[0m\u001b[1;33m\u001b[0m\u001b[0m\n\u001b[0m\u001b[0;32m      2\u001b[0m     \u001b[0mobj\u001b[0m\u001b[1;33m.\u001b[0m\u001b[0mwrite\u001b[0m\u001b[1;33m(\u001b[0m\u001b[1;34m\"Hello! kese ho\"\u001b[0m\u001b[1;33m)\u001b[0m\u001b[1;33m\u001b[0m\u001b[1;33m\u001b[0m\u001b[0m\n\u001b[0;32m      3\u001b[0m     \u001b[0mobj\u001b[0m\u001b[1;33m.\u001b[0m\u001b[0mseek\u001b[0m\u001b[1;33m(\u001b[0m\u001b[1;36m0\u001b[0m\u001b[1;33m)\u001b[0m\u001b[1;33m\u001b[0m\u001b[1;33m\u001b[0m\u001b[0m\n\u001b[0;32m      4\u001b[0m     \u001b[0mc\u001b[0m\u001b[1;33m=\u001b[0m\u001b[0mobj\u001b[0m\u001b[1;33m.\u001b[0m\u001b[0mread\u001b[0m\u001b[1;33m(\u001b[0m\u001b[1;33m)\u001b[0m\u001b[1;33m\u001b[0m\u001b[1;33m\u001b[0m\u001b[0m\n\u001b[0;32m      5\u001b[0m \u001b[0mc\u001b[0m\u001b[1;33m\u001b[0m\u001b[1;33m\u001b[0m\u001b[0m\n",
      "\u001b[1;31mFileNotFoundError\u001b[0m: [Errno 2] No such file or directory: 'fil.txt'"
     ]
    }
   ],
   "source": [
    "with open('fil.txt','r+') as obj:# give exception because read does not create file \n",
    "    obj.write(\"Hello! kese ho\")\n",
    "    obj.seek(0)\n",
    "    c=obj.read()\n",
    "c"
   ]
  },
  {
   "cell_type": "code",
   "execution_count": 24,
   "metadata": {},
   "outputs": [],
   "source": [
    "with open('file.txt','a') as obj: #it does not read it just append new content \n",
    "    obj.write(\"Hello! kese ho\")\n",
    "    obj.seek(0)\n",
    "   # c = obj.read()\n"
   ]
  },
  {
   "cell_type": "code",
   "execution_count": 25,
   "metadata": {},
   "outputs": [
    {
     "data": {
      "text/plain": [
       "'Hello! kese hoHello! kese hoHello! kese ho'"
      ]
     },
     "execution_count": 25,
     "metadata": {},
     "output_type": "execute_result"
    }
   ],
   "source": [
    "with open('file.txt','r') as obj: \n",
    "   #obj.write(\"Hello! kese ho\")\n",
    "    #obj.seek(0)\n",
    "    c = obj.read()\n",
    "c"
   ]
  },
  {
   "cell_type": "code",
   "execution_count": 28,
   "metadata": {},
   "outputs": [
    {
     "name": "stdout",
     "output_type": "stream",
     "text": [
      "Enter Your name Aaqib\n"
     ]
    }
   ],
   "source": [
    "#book excercise\n",
    "#10.3\n",
    "name = input(\"Enter Your name \")\n",
    "with open (\"guestname.txt\",'w+') as w:\n",
    "    w.write(name) "
   ]
  },
  {
   "cell_type": "code",
   "execution_count": 32,
   "metadata": {},
   "outputs": [
    {
     "data": {
      "text/plain": [
       "'Aaqib'"
      ]
     },
     "execution_count": 32,
     "metadata": {},
     "output_type": "execute_result"
    }
   ],
   "source": [
    "with open (\"guestname.txt\",'r') as w:\n",
    "    c= w.read() \n",
    "c"
   ]
  },
  {
   "cell_type": "code",
   "execution_count": 34,
   "metadata": {},
   "outputs": [
    {
     "name": "stdout",
     "output_type": "stream",
     "text": [
      "Enter your name for next name enter 'y' and to quit enter 'q':  aa\n",
      "Enter your name for next name enter 'y' and to quit enter 'q':  f\n",
      "Enter your name for next name enter 'y' and to quit enter 'q':  q\n"
     ]
    }
   ],
   "source": [
    "flag = True\n",
    "while flag:\n",
    "    name = input(\"Enter your name for next name enter 'y' and to quit enter 'q':  \")\n",
    "    with open (\"guestname.txt\",'w+') as w:\n",
    "        w.write(name)\n",
    "        if name=='q':\n",
    "            flag=False\n",
    "        else:\n",
    "            w.write(name)\n",
    "        \n",
    "    "
   ]
  },
  {
   "cell_type": "code",
   "execution_count": null,
   "metadata": {},
   "outputs": [],
   "source": []
  }
 ],
 "metadata": {
  "kernelspec": {
   "display_name": "Python 3",
   "language": "python",
   "name": "python3"
  },
  "language_info": {
   "codemirror_mode": {
    "name": "ipython",
    "version": 3
   },
   "file_extension": ".py",
   "mimetype": "text/x-python",
   "name": "python",
   "nbconvert_exporter": "python",
   "pygments_lexer": "ipython3",
   "version": "3.8.5"
  }
 },
 "nbformat": 4,
 "nbformat_minor": 4
}
